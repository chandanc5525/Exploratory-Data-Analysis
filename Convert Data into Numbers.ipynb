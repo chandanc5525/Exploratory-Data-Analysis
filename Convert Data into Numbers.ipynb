{
 "cells": [
  {
   "cell_type": "code",
   "execution_count": 1,
   "id": "a5f4aab1",
   "metadata": {},
   "outputs": [],
   "source": [
    "import pandas as pd\n",
    "import numpy as np\n",
    "import warnings\n",
    "warnings.simplefilter('ignore')"
   ]
  },
  {
   "cell_type": "code",
   "execution_count": 2,
   "id": "cc1d250c",
   "metadata": {},
   "outputs": [
    {
     "data": {
      "text/html": [
       "<div>\n",
       "<style scoped>\n",
       "    .dataframe tbody tr th:only-of-type {\n",
       "        vertical-align: middle;\n",
       "    }\n",
       "\n",
       "    .dataframe tbody tr th {\n",
       "        vertical-align: top;\n",
       "    }\n",
       "\n",
       "    .dataframe thead th {\n",
       "        text-align: right;\n",
       "    }\n",
       "</style>\n",
       "<table border=\"1\" class=\"dataframe\">\n",
       "  <thead>\n",
       "    <tr style=\"text-align: right;\">\n",
       "      <th></th>\n",
       "      <th>Make</th>\n",
       "      <th>Colour</th>\n",
       "      <th>Odometer (KM)</th>\n",
       "      <th>Doors</th>\n",
       "      <th>Price</th>\n",
       "    </tr>\n",
       "  </thead>\n",
       "  <tbody>\n",
       "    <tr>\n",
       "      <th>0</th>\n",
       "      <td>Honda</td>\n",
       "      <td>White</td>\n",
       "      <td>35431</td>\n",
       "      <td>4</td>\n",
       "      <td>15323</td>\n",
       "    </tr>\n",
       "    <tr>\n",
       "      <th>1</th>\n",
       "      <td>BMW</td>\n",
       "      <td>Blue</td>\n",
       "      <td>192714</td>\n",
       "      <td>5</td>\n",
       "      <td>19943</td>\n",
       "    </tr>\n",
       "    <tr>\n",
       "      <th>2</th>\n",
       "      <td>Honda</td>\n",
       "      <td>White</td>\n",
       "      <td>84714</td>\n",
       "      <td>4</td>\n",
       "      <td>28343</td>\n",
       "    </tr>\n",
       "    <tr>\n",
       "      <th>3</th>\n",
       "      <td>Toyota</td>\n",
       "      <td>White</td>\n",
       "      <td>154365</td>\n",
       "      <td>4</td>\n",
       "      <td>13434</td>\n",
       "    </tr>\n",
       "    <tr>\n",
       "      <th>4</th>\n",
       "      <td>Nissan</td>\n",
       "      <td>Blue</td>\n",
       "      <td>181577</td>\n",
       "      <td>3</td>\n",
       "      <td>14043</td>\n",
       "    </tr>\n",
       "    <tr>\n",
       "      <th>...</th>\n",
       "      <td>...</td>\n",
       "      <td>...</td>\n",
       "      <td>...</td>\n",
       "      <td>...</td>\n",
       "      <td>...</td>\n",
       "    </tr>\n",
       "    <tr>\n",
       "      <th>995</th>\n",
       "      <td>Toyota</td>\n",
       "      <td>Black</td>\n",
       "      <td>35820</td>\n",
       "      <td>4</td>\n",
       "      <td>32042</td>\n",
       "    </tr>\n",
       "    <tr>\n",
       "      <th>996</th>\n",
       "      <td>Nissan</td>\n",
       "      <td>White</td>\n",
       "      <td>155144</td>\n",
       "      <td>3</td>\n",
       "      <td>5716</td>\n",
       "    </tr>\n",
       "    <tr>\n",
       "      <th>997</th>\n",
       "      <td>Nissan</td>\n",
       "      <td>Blue</td>\n",
       "      <td>66604</td>\n",
       "      <td>4</td>\n",
       "      <td>31570</td>\n",
       "    </tr>\n",
       "    <tr>\n",
       "      <th>998</th>\n",
       "      <td>Honda</td>\n",
       "      <td>White</td>\n",
       "      <td>215883</td>\n",
       "      <td>4</td>\n",
       "      <td>4001</td>\n",
       "    </tr>\n",
       "    <tr>\n",
       "      <th>999</th>\n",
       "      <td>Toyota</td>\n",
       "      <td>Blue</td>\n",
       "      <td>248360</td>\n",
       "      <td>4</td>\n",
       "      <td>12732</td>\n",
       "    </tr>\n",
       "  </tbody>\n",
       "</table>\n",
       "<p>1000 rows × 5 columns</p>\n",
       "</div>"
      ],
      "text/plain": [
       "       Make Colour  Odometer (KM)  Doors  Price\n",
       "0     Honda  White          35431      4  15323\n",
       "1       BMW   Blue         192714      5  19943\n",
       "2     Honda  White          84714      4  28343\n",
       "3    Toyota  White         154365      4  13434\n",
       "4    Nissan   Blue         181577      3  14043\n",
       "..      ...    ...            ...    ...    ...\n",
       "995  Toyota  Black          35820      4  32042\n",
       "996  Nissan  White         155144      3   5716\n",
       "997  Nissan   Blue          66604      4  31570\n",
       "998   Honda  White         215883      4   4001\n",
       "999  Toyota   Blue         248360      4  12732\n",
       "\n",
       "[1000 rows x 5 columns]"
      ]
     },
     "execution_count": 2,
     "metadata": {},
     "output_type": "execute_result"
    }
   ],
   "source": [
    "data = pd.read_csv('car-sales-extended.csv')\n",
    "data"
   ]
  },
  {
   "cell_type": "code",
   "execution_count": 3,
   "id": "8dd7dbc5",
   "metadata": {},
   "outputs": [
    {
     "name": "stdout",
     "output_type": "stream",
     "text": [
      "<class 'pandas.core.frame.DataFrame'>\n",
      "RangeIndex: 1000 entries, 0 to 999\n",
      "Data columns (total 5 columns):\n",
      " #   Column         Non-Null Count  Dtype \n",
      "---  ------         --------------  ----- \n",
      " 0   Make           1000 non-null   object\n",
      " 1   Colour         1000 non-null   object\n",
      " 2   Odometer (KM)  1000 non-null   int64 \n",
      " 3   Doors          1000 non-null   int64 \n",
      " 4   Price          1000 non-null   int64 \n",
      "dtypes: int64(3), object(2)\n",
      "memory usage: 39.2+ KB\n"
     ]
    }
   ],
   "source": [
    "data.info()"
   ]
  },
  {
   "cell_type": "code",
   "execution_count": 4,
   "id": "054266e5",
   "metadata": {},
   "outputs": [
    {
     "name": "stdout",
     "output_type": "stream",
     "text": [
      "Make\n",
      "Toyota    398\n",
      "Honda     304\n",
      "Nissan    198\n",
      "BMW       100\n",
      "Name: Make, dtype: int64\n",
      "Colour\n",
      "White    407\n",
      "Blue     321\n",
      "Black     99\n",
      "Red       94\n",
      "Green     79\n",
      "Name: Colour, dtype: int64\n",
      "Odometer (KM)\n",
      "73869     2\n",
      "129188    2\n",
      "35431     1\n",
      "84787     1\n",
      "213077    1\n",
      "         ..\n",
      "187663    1\n",
      "65435     1\n",
      "80664     1\n",
      "119439    1\n",
      "248360    1\n",
      "Name: Odometer (KM), Length: 998, dtype: int64\n",
      "Doors\n",
      "4    856\n",
      "5     79\n",
      "3     65\n",
      "Name: Doors, dtype: int64\n",
      "Price\n",
      "10429    2\n",
      "12392    2\n",
      "18919    2\n",
      "4566     2\n",
      "3974     2\n",
      "        ..\n",
      "17036    1\n",
      "29635    1\n",
      "4871     1\n",
      "25649    1\n",
      "12732    1\n",
      "Name: Price, Length: 984, dtype: int64\n"
     ]
    }
   ],
   "source": [
    "features = data[['Make','Colour','Odometer (KM)','Doors','Price']]\n",
    "for col in features:\n",
    "    print(col)\n",
    "    print(features[col].value_counts())"
   ]
  },
  {
   "cell_type": "code",
   "execution_count": 5,
   "id": "4906002b",
   "metadata": {},
   "outputs": [
    {
     "name": "stdout",
     "output_type": "stream",
     "text": [
      "Make\n",
      "4\n",
      "Colour\n",
      "5\n",
      "Odometer (KM)\n",
      "998\n",
      "Doors\n",
      "3\n",
      "Price\n",
      "984\n"
     ]
    }
   ],
   "source": [
    "features = data[['Make','Colour','Odometer (KM)','Doors','Price']]\n",
    "for col in features:\n",
    "    print(col)\n",
    "    print(features[col].nunique())"
   ]
  },
  {
   "cell_type": "code",
   "execution_count": 6,
   "id": "46ef1890",
   "metadata": {},
   "outputs": [],
   "source": [
    "# Splitting Data Types into X and y\n",
    "\n",
    "X  = data.drop('Price',axis=1)\n",
    "y = data['Price']"
   ]
  },
  {
   "cell_type": "code",
   "execution_count": 7,
   "id": "62c228dc",
   "metadata": {},
   "outputs": [
    {
     "name": "stdout",
     "output_type": "stream",
     "text": [
      "(1000, 4)\n",
      "(1000,)\n"
     ]
    }
   ],
   "source": [
    "print(X.shape)     # X - Independent Variables/Feature\n",
    "print(y.shape)     # y - Target Feature"
   ]
  },
  {
   "cell_type": "code",
   "execution_count": 8,
   "id": "61fefda0",
   "metadata": {},
   "outputs": [
    {
     "data": {
      "text/plain": [
       "array([[0.00000e+00, 1.00000e+00, 0.00000e+00, ..., 1.00000e+00,\n",
       "        0.00000e+00, 3.54310e+04],\n",
       "       [1.00000e+00, 0.00000e+00, 0.00000e+00, ..., 0.00000e+00,\n",
       "        1.00000e+00, 1.92714e+05],\n",
       "       [0.00000e+00, 1.00000e+00, 0.00000e+00, ..., 1.00000e+00,\n",
       "        0.00000e+00, 8.47140e+04],\n",
       "       ...,\n",
       "       [0.00000e+00, 0.00000e+00, 1.00000e+00, ..., 1.00000e+00,\n",
       "        0.00000e+00, 6.66040e+04],\n",
       "       [0.00000e+00, 1.00000e+00, 0.00000e+00, ..., 1.00000e+00,\n",
       "        0.00000e+00, 2.15883e+05],\n",
       "       [0.00000e+00, 0.00000e+00, 0.00000e+00, ..., 1.00000e+00,\n",
       "        0.00000e+00, 2.48360e+05]])"
      ]
     },
     "execution_count": 8,
     "metadata": {},
     "output_type": "execute_result"
    }
   ],
   "source": [
    "# Turn the Categories into Numbers\n",
    "\n",
    "from sklearn.preprocessing import OneHotEncoder\n",
    "from sklearn.compose import ColumnTransformer\n",
    "\n",
    "Categorical_feature = ['Make','Colour','Doors']\n",
    "one_hot = OneHotEncoder()\n",
    "transformer = ColumnTransformer([('one_hot',\n",
    "                                   one_hot,\n",
    "                                   Categorical_feature)],\n",
    "                                   remainder = 'passthrough')\n",
    "transformed_X = transformer.fit_transform(X)\n",
    "transformed_X"
   ]
  },
  {
   "cell_type": "code",
   "execution_count": 9,
   "id": "09c511a5",
   "metadata": {},
   "outputs": [
    {
     "data": {
      "text/plain": [
       "RandomForestRegressor()"
      ]
     },
     "execution_count": 9,
     "metadata": {},
     "output_type": "execute_result"
    }
   ],
   "source": [
    "# Splitting the Dataset into X and y\n",
    "from sklearn.model_selection import train_test_split\n",
    "X_train,X_test,y_train,y_test = train_test_split(transformed_X,y,train_size=0.70,test_size=0.30,random_state=42)\n",
    "\n",
    "from sklearn.ensemble import RandomForestRegressor\n",
    "model = RandomForestRegressor()\n",
    "model.fit(X_train,y_train)"
   ]
  },
  {
   "cell_type": "code",
   "execution_count": 10,
   "id": "98c604fd",
   "metadata": {},
   "outputs": [
    {
     "data": {
      "text/plain": [
       "0.30701586107158696"
      ]
     },
     "execution_count": 10,
     "metadata": {},
     "output_type": "execute_result"
    }
   ],
   "source": [
    "model.score(X_test,y_test)"
   ]
  },
  {
   "cell_type": "code",
   "execution_count": 11,
   "id": "bf399d13",
   "metadata": {},
   "outputs": [
    {
     "data": {
      "text/plain": [
       "array([11583.28, 11721.29, 44707.38, 23684.42, 23915.94, 12235.38,\n",
       "       11743.31, 15730.99, 13397.68,  9855.36, 27222.4 , 19007.69,\n",
       "       29015.86, 10497.2 , 17506.15, 19263.84, 10976.09, 17528.7 ,\n",
       "       26660.07, 14347.  , 23915.94,  8128.22, 16845.39, 11582.01,\n",
       "       24412.76, 27687.41, 11965.63, 17835.88, 27290.07, 21455.74,\n",
       "       16162.46, 13556.76, 11131.14, 17329.88, 11936.74,  8807.99,\n",
       "       11282.31, 32001.76, 12727.29,  9479.88, 17255.46, 23462.62,\n",
       "       23411.99,  9422.25, 14851.75, 24441.95, 11926.12, 11227.44,\n",
       "       23042.1 , 18660.97, 11762.84, 10045.02, 18357.06, 10855.42,\n",
       "        9437.57, 24331.15,  6203.94,  8094.41,  8920.43, 19256.51,\n",
       "       11898.74, 14536.39, 30057.25, 14137.78, 19835.67, 17102.47,\n",
       "       11567.07, 25062.15, 15882.71, 11808.87, 11636.92, 16038.33,\n",
       "       15639.28, 15722.98, 11579.16, 13270.08, 18608.48, 11715.89,\n",
       "       12300.6 , 15726.74,  9648.64, 10945.59, 10566.24, 29596.89,\n",
       "       25842.12, 18331.71,  8143.37, 11575.01, 30633.55, 26614.53,\n",
       "       13168.67, 24603.57, 10461.95, 14350.68, 10265.83, 24984.62,\n",
       "        9218.69, 18474.67, 25339.83, 18538.42, 17066.54, 17042.38,\n",
       "       13090.68, 27645.38, 14669.86, 13849.62, 11548.89,  9727.65,\n",
       "       15992.68, 12489.05, 22005.59, 18394.07,  6249.93,  7354.68,\n",
       "       11246.52, 11325.58, 21472.04, 30674.87, 13498.59, 30632.24,\n",
       "       14498.75, 12721.23, 11792.4 ,  9073.82, 14732.88,  9192.06,\n",
       "       11244.11, 18319.17, 17761.12, 18191.24, 11663.92, 16641.12,\n",
       "       10596.51, 17731.42, 24397.69, 27850.54, 13190.93, 27220.38,\n",
       "       10209.84, 12449.71, 11092.57, 18372.88, 13814.67, 17680.55,\n",
       "       10827.32,  9438.35, 10218.75, 11080.9 , 10199.26, 11234.42,\n",
       "       10894.04,  8342.18, 14191.65, 11584.17,  9077.76, 17755.53,\n",
       "       11991.48, 10169.71, 22666.1 , 21467.08, 14027.53, 18686.01,\n",
       "       21172.66, 19661.49, 11651.27,  8523.48, 17616.54,  9497.22,\n",
       "       15997.76, 13545.95,  8299.  , 12532.8 ,  9803.94, 15249.89,\n",
       "        8129.36, 15421.79, 17061.15, 17094.16,  8379.69, 14396.3 ,\n",
       "       13150.05, 10374.99, 15343.49, 11463.08, 11780.44, 24655.92,\n",
       "       17504.69, 19931.1 , 10879.01, 19423.79, 13708.17, 11198.3 ,\n",
       "       19821.57, 16507.52,  8182.24, 11631.27, 11321.35, 30676.67,\n",
       "       22631.97,  9671.67, 10715.7 , 17937.94, 14514.84, 17670.31,\n",
       "       20602.01, 17753.64, 10778.83, 10408.5 , 25962.18, 11983.98,\n",
       "       25511.2 , 18123.98, 19884.69, 15887.26, 17876.36, 10432.65,\n",
       "       22609.28, 19951.69, 18660.97, 24030.3 , 14508.3 , 13418.06,\n",
       "       19091.43, 22753.91, 10964.54, 22248.6 , 21572.6 ,  9522.43,\n",
       "       12364.91,  9947.57, 21543.45, 17812.01,  9521.34, 15477.05,\n",
       "        9567.2 , 16666.63, 12730.86, 21998.15,  9862.49, 13839.51,\n",
       "       10082.21, 12558.52, 11282.42, 23049.01, 14381.92,  7414.6 ,\n",
       "       24342.11,  9492.11, 15812.06, 10503.76, 16568.63,  9882.61,\n",
       "       19177.8 ,  8855.35,  8821.16, 10203.92,  9910.33, 19667.23,\n",
       "       21561.36, 21240.  , 11975.57, 23861.25, 18777.78, 11495.53,\n",
       "       13016.54, 32315.18, 18571.4 , 16260.57, 17825.72, 13018.81,\n",
       "       10804.44,  8734.5 , 15059.26, 25741.07,  7493.77, 22105.02,\n",
       "       18859.85,  8863.74, 28851.66, 24576.42,  8772.61, 12347.77,\n",
       "       11358.98, 10927.46, 18143.75, 20653.39, 12072.82, 13688.98,\n",
       "       23361.79, 22628.64, 14838.56,  9599.59, 17507.5 , 16708.76,\n",
       "       20043.74, 11211.6 ,  9578.7 , 24460.62, 22005.59, 29370.92])"
      ]
     },
     "execution_count": 11,
     "metadata": {},
     "output_type": "execute_result"
    }
   ],
   "source": [
    "y_pred = model.predict(X_test)\n",
    "y_pred"
   ]
  },
  {
   "cell_type": "code",
   "execution_count": 12,
   "id": "fac0d730",
   "metadata": {},
   "outputs": [
    {
     "data": {
      "image/png": "[encoded data removed]",
      "text/plain": [
       "<Figure size 500x500 with 1 Axes>"
      ]
     },
     "metadata": {},
     "output_type": "display_data"
    }
   ],
   "source": [
    "import seaborn as sns\n",
    "import matplotlib.pyplot as plt\n",
    "sns.displot(y_pred-y_test,kde=True);\n",
    "plt.title('KDE Distribution of (y_pred-y_test)')\n",
    "plt.show()"
   ]
  }
 ],
 "metadata": {
  "kernelspec": {
   "display_name": "Python 3 (ipykernel)",
   "language": "python",
   "name": "python3"
  },
  "language_info": {
   "codemirror_mode": {
    "name": "ipython",
    "version": 3
   },
   "file_extension": ".py",
   "mimetype": "text/x-python",
   "name": "python",
   "nbconvert_exporter": "python",
   "pygments_lexer": "ipython3",
   "version": "3.9.13"
  }
 },
 "nbformat": 4,
 "nbformat_minor": 5
}
